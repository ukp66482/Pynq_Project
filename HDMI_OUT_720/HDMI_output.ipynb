{
 "cells": [
  {
   "cell_type": "code",
   "execution_count": null,
   "id": "ec4cf799",
   "metadata": {},
   "outputs": [
    {
     "name": "stderr",
     "output_type": "stream",
     "text": [
      "[ WARN:0] global ./modules/videoio/src/cap_gstreamer.cpp (616) isPipelinePlaying OpenCV | GStreamer warning: GStreamer: pipeline have not been created\n"
     ]
    },
    {
     "name": "stdout",
     "output_type": "stream",
     "text": [
      "攝影機成功開啟\n",
      "stop successfully\n"
     ]
    }
   ],
   "source": [
    "import cv2 \n",
    "from pynq import Overlay \n",
    "from pynq import allocate \n",
    "from pynq.lib.video import *\n",
    "import numpy as np\n",
    "from pynq.lib import AxiGPIO\n",
    "\n",
    "ol = Overlay(\"./HDMI_720.bit\")\n",
    "\n",
    "vdma = ol.axi_vdma_0\n",
    "frame_in_w = 1280\n",
    "frame_in_h = 720\n",
    "\n",
    "\n",
    "mode = VideoMode(frame_in_w, frame_in_h,24)\n",
    "vdma.writechannel.mode = mode\n",
    "vdma.writechannel.start()\n",
    "\n",
    "# camera (input) configuration\n",
    "cap = cv2.VideoCapture(0)\n",
    "\n",
    "if not cap.isOpened():\n",
    "    print(\"無法開啟攝影機\")\n",
    "    exit()\n",
    "else:\n",
    "    print(\"攝影機成功開啟\")\n",
    "    \n",
    "cap.set(cv2.CAP_PROP_FRAME_WIDTH, frame_in_w);\n",
    "cap.set(cv2.CAP_PROP_FRAME_HEIGHT, frame_in_h);\n",
    "\n",
    "\n",
    "buttons_instance = ol.ip_dict[\"axi_gpio_0\"]\n",
    "buttons = AxiGPIO(buttons_instance).channel1\n",
    "\n",
    "\n",
    "frame = allocate(shape=(frame_in_h, frame_in_w,3),dtype=np.uint8,cacheable=True)\n",
    "\n",
    "while True: \n",
    "    ret, frame_cap = cap.read()\n",
    "    # Display webcam image via HDMI Out\n",
    "    if(ret): \n",
    "        b, g, r = cv2.split(frame_cap) \n",
    "        frame_cap = cv2.merge([g,b,r]) \n",
    "        frame[:] = frame_cap[:] \n",
    "        vdma.writechannel.writeframe(frame)\n",
    "        # print(\"writing frame\")\n",
    "        if(buttons[0].read()): \n",
    "            cap.release() \n",
    "            vdma.writechannel.stop()\n",
    "            break\n",
    "    else:\n",
    "        print(\"Failed to read from camera.\") \n",
    "        cap.release() \n",
    "        vdma.writechannel.stop()\n",
    "        break\n",
    "\n",
    "print(\"stop successfully\")\n",
    "\n",
    "# for debug\n",
    "#cap.release()\n",
    "#vdma.writechannel.stop()\n"
   ]
  },
  {
   "cell_type": "code",
   "execution_count": null,
   "id": "398e2329",
   "metadata": {},
   "outputs": [],
   "source": []
  }
 ],
 "metadata": {
  "kernelspec": {
   "display_name": "Python 3 (ipykernel)",
   "language": "python",
   "name": "python3"
  },
  "language_info": {
   "codemirror_mode": {
    "name": "ipython",
    "version": 3
   },
   "file_extension": ".py",
   "mimetype": "text/x-python",
   "name": "python",
   "nbconvert_exporter": "python",
   "pygments_lexer": "ipython3",
   "version": "3.10.4"
  }
 },
 "nbformat": 4,
 "nbformat_minor": 5
}
